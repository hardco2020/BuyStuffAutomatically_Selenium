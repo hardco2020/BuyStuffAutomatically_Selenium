{
 "cells": [
  {
   "cell_type": "code",
   "execution_count": 22,
   "metadata": {},
   "outputs": [
    {
     "name": "stderr",
     "output_type": "stream",
     "text": [
      "C:\\Users\\user\\Anaconda3\\lib\\site-packages\\ipykernel_launcher.py:29: DeprecationWarning: time.clock has been deprecated in Python 3.3 and will be removed from Python 3.8: use time.perf_counter or time.process_time instead\n"
     ]
    },
    {
     "name": "stdout",
     "output_type": "stream",
     "text": [
      "None\n",
      "已定位到元素\n"
     ]
    }
   ],
   "source": [
    "from selenium import webdriver #利用selenium做爬蟲\n",
    "from selenium.webdriver.common.alert import Alert #處理跳窗\n",
    "from selenium.webdriver.support.wait import WebDriverWait\n",
    "from selenium.webdriver.common.by import By\n",
    "from selenium.webdriver.support import expected_conditions as EC\n",
    "import time\n",
    "\n",
    "########################## Yahoo版本的ps5爬蟲搶購\n",
    "#1.注意要先到官網輸入自己的信用卡資訊與收件資訊\n",
    "#2.跑的時候要注意資訊輸入以免不小心直接買起來\n",
    "#3.搶購方面的能力目前還待驗證 因為再刷新方面的機制不太清楚\n",
    "driver_path = 'C:\\Program Files\\chromedriver.exe'  #導入chrome driver才能開模擬器\n",
    "browser = webdriver.Chrome(driver_path)\n",
    "browser.get(\"https://tw.buy.yahoo.com/gdsale/Nintendo-%E4%BB%BB%E5%A4%A9%E5%A0%82-%E5%8E%9F%E5%BB%A0Switch-Pro%E6%8E%A7%E5%88%B6%E5%99%A8-Joy-Con-Pro%E9%9B%99%E7%94%A8%E6%8E%A7%E5%88%B6%E5%99%A8%E5%85%85%E9%9B%BB%E5%BA%A7-%E8%B4%88-9244628.html\") #此為switch產品測試\n",
    "\n",
    "# browser.get(\"https://tw.buy.yahoo.com/gdsale/PlayStation-5-9255674.html\") #ps5網址\n",
    "\n",
    "browser.find_element_by_link_text(\"登入\").click()\n",
    "\n",
    "search_Id = browser.find_element_by_name('username') #找到輸入帳號的位置 並先記錄之後要input\n",
    "search_Id.send_keys('school021195') #輸入帳號   (到時候可以考慮利用腳步輸入多個帳號\n",
    "\n",
    "browser.find_element_by_id('login-signin').click()\n",
    "WebDriverWait(browser, 20, 0.5).until(EC.presence_of_element_located((By.ID, 'login-passwd'))) #顯性等待 不然爬蟲跑太快了 抓不到元素\n",
    "search_password = browser.find_element_by_id('login-passwd') \n",
    "search_password.send_keys('wearelose') #輸入密碼\n",
    "browser.find_element_by_id('login-signin').click()\n",
    "\n",
    "start = time.clock()\n",
    "#此處的while是為了做ps5等待機制 大概在上線前一兩分鐘開啟 透過不斷檢測 且檢測一定次數不到就做刷新的方式來等待button\n",
    "while 1:     #利用顯性等待 每0.5秒檢測一次 檢測到五秒跳出wait 之後到except之後刷新網站 在繼續檢測五秒 時間可以自己做調整          \n",
    "    try:\n",
    "        WebDriverWait(browser, 1, 0.4).until(EC.presence_of_element_located((By.CLASS_NAME, 'SasCheckoutButton__mod___1BK9F.CheckoutBar__buyNowBtn___qgDtR.CheckoutBar__checkoutButton___jSkkJ'))) #顯性等待 不然爬蟲跑太快了 抓不到元素\n",
    "        search_buy = browser.find_element_by_class_name('SasCheckoutButton__mod___1BK9F.CheckoutBar__buyNowBtn___qgDtR.CheckoutBar__checkoutButton___jSkkJ').click()\n",
    "        print(search_buy)\n",
    "        print ('已定位到元素')\n",
    "        break\n",
    "    except:\n",
    "        print(\"還未定位到元素! 刷新\")\n",
    "        browser.refresh()\n",
    "confirmbutton = WebDriverWait(browser,10, 0.5).until(EC.presence_of_element_located((By.XPATH, '//*[@id=\"checkout\"]/div[2]/div[2]/div[4]/div[4]/button'))) #確認購買    \n",
    "confirmbutton.click()\n",
    "\n",
    "browser.switch_to.frame(0)      #此處很重要，卡在沒有切iframe才一直找不到屬性\n",
    "\n",
    "element2 = WebDriverWait(browser,30, 0.5).until(EC.element_to_be_clickable((By.XPATH, '//*[@id=\"walletForm\"]/div[2]/label/input')))  #信用卡金鑰輸入\n",
    "element2.send_keys('937')\n",
    "\n",
    "browser.switch_to.default_content()  #將信用卡屬性填完之後要切回主frame來填購買button\n",
    "\n",
    "WebDriverWait(browser,10, 0.5).until(EC.presence_of_element_located((By.XPATH, '//*[@id=\"checkout\"]/div[2]/div[2]/div[3]/div[2]/div/label/input'))).send_keys(\"school021195@gmail.com\") #email\n",
    "# purchasebutton = WebDriverWait(browser,10, 0.5).until(EC.presence_of_element_located((By.XPATH, '//*[@id=\"checkout\"]/div[2]/div[3]/div[4]/button'))) #最後一步 小心測試時要註解掉  \n",
    "# purchasebutton.click()\n",
    "\n"
   ]
  },
  {
   "cell_type": "code",
   "execution_count": 24,
   "metadata": {},
   "outputs": [
    {
     "name": "stdout",
     "output_type": "stream",
     "text": [
      "還未定位到元素! 刷新\n",
      "已定位到元素\n"
     ]
    }
   ],
   "source": [
    "from selenium import webdriver #利用selenium做爬蟲\n",
    "from selenium.webdriver.common.alert import Alert #處理跳窗\n",
    "import time\n",
    "driver_path = 'C:\\Program Files\\chromedriver.exe'  #導入chrome driver才能開模擬器\n",
    "browser = webdriver.Chrome(driver_path)\n",
    "browser.get(\"https://www.momoshop.com.tw/goods/GoodsDetail.jsp?i_code=8123508&Area=search&mdiv=403&oid=1_2&cid=index&kw=ps5\")  #導入到官網 測試產品\n",
    "# browser.get(\"https://www.momoshop.com.tw/goods/GoodsDetail.jsp?i_code=8267514&Area=search&mdiv=403&oid=1_1&cid=index&kw=ps5\")\n",
    "browser.find_element_by_link_text(\"登入\").click()\n",
    "WebDriverWait(browser, 5, 0.5).until(EC.presence_of_element_located((By.XPATH, '//*[@id=\"memId\"]'))).send_keys(\"0923238003\") #顯性等待 不然爬蟲跑太快了 抓不到元素\n",
    "js = 'document.getElementById(\"passwd\").value=\"wearelose0\"'   #利用js來解決密碼display:none的問題\n",
    "browser.execute_script(js)\n",
    "browser.find_element_by_class_name('loginBtn').click()\n",
    "\n",
    "while 1:     #利用顯性等待 每0.5秒檢測一次 檢測到五秒跳出wait 之後到except之後刷新網站 在繼續檢測五秒 時間可以自己做調整          \n",
    "    try:\n",
    "        WebDriverWait(browser, 1, 0.4).until(EC.presence_of_element_located((By.XPATH, '//*[@id=\"buy_yes\"]/a/img'))).click() #顯性等待 不然爬蟲跑太快了 抓不到元素\n",
    "        print ('已定位到元素')\n",
    "        break\n",
    "    except:\n",
    "        print(\"還未定位到元素! 刷新\")\n",
    "        browser.refresh()\n",
    "WebDriverWait(browser, 5, 0.5).until(EC.presence_of_element_located((By.XPATH, '//*[@id=\"shpSumm\"]/div/ul/li[1]/a'))).click() #確認購買\n",
    "WebDriverWait(browser, 5, 0.5).until(EC.presence_of_element_located((By.XPATH, '//*[@id=\"cardCVV\"]'))).send_keys(\"937\") #信用卡安全碼\n",
    "# WebDriverWait(browser, 5, 0.5).until(EC.presence_of_element_located((By.XPATH, '//*[@id=\"orderSave\"]'))).click() #確認購買 最後一步請小心使用\n",
    "\n",
    "\n"
   ]
  }
 ],
 "metadata": {
  "kernelspec": {
   "display_name": "Python 3",
   "language": "python",
   "name": "python3"
  },
  "language_info": {
   "codemirror_mode": {
    "name": "ipython",
    "version": 3
   },
   "file_extension": ".py",
   "mimetype": "text/x-python",
   "name": "python",
   "nbconvert_exporter": "python",
   "pygments_lexer": "ipython3",
   "version": "3.7.1"
  }
 },
 "nbformat": 4,
 "nbformat_minor": 2
}
